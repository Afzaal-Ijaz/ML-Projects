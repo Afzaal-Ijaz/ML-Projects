{
 "cells": [
  {
   "cell_type": "markdown",
   "id": "24201288-4105-4c0a-a023-ac25080845a1",
   "metadata": {},
   "source": [
    "## Import llibraries"
   ]
  },
  {
   "cell_type": "code",
   "execution_count": 4,
   "id": "7be91ad6-8d36-4c04-af75-1cce66703509",
   "metadata": {},
   "outputs": [],
   "source": [
    "import numpy as np\n",
    "import pandas as pd\n",
    "import matplotlib.pyplot as plt\n",
    "import seaborn as sns"
   ]
  },
  {
   "cell_type": "markdown",
   "id": "e8d11d68-341f-4f9b-89e0-5afeb8bf1cf4",
   "metadata": {},
   "source": [
    "## Load dataset"
   ]
  },
  {
   "cell_type": "code",
   "execution_count": 7,
   "id": "2d6c1639-0b3d-4eeb-9ce6-fbbd8a582f87",
   "metadata": {},
   "outputs": [],
   "source": [
    "data = pd.read_csv('CSE_student_performances.csv')"
   ]
  },
  {
   "cell_type": "code",
   "execution_count": 8,
   "id": "f573f5c5-1473-4d92-bc2a-1bb99edf24c2",
   "metadata": {},
   "outputs": [
    {
     "data": {
      "text/html": [
       "<div>\n",
       "<style scoped>\n",
       "    .dataframe tbody tr th:only-of-type {\n",
       "        vertical-align: middle;\n",
       "    }\n",
       "\n",
       "    .dataframe tbody tr th {\n",
       "        vertical-align: top;\n",
       "    }\n",
       "\n",
       "    .dataframe thead th {\n",
       "        text-align: right;\n",
       "    }\n",
       "</style>\n",
       "<table border=\"1\" class=\"dataframe\">\n",
       "  <thead>\n",
       "    <tr style=\"text-align: right;\">\n",
       "      <th></th>\n",
       "      <th>Age</th>\n",
       "      <th>Gender</th>\n",
       "      <th>AcademicPerformance</th>\n",
       "      <th>TakingNoteInClass</th>\n",
       "      <th>DepressionStatus</th>\n",
       "      <th>FaceChallangesToCompleteAcademicTask</th>\n",
       "      <th>LikePresentation</th>\n",
       "      <th>SleepPerDayHours</th>\n",
       "      <th>NumberOfFriend</th>\n",
       "      <th>LikeNewThings</th>\n",
       "    </tr>\n",
       "  </thead>\n",
       "  <tbody>\n",
       "    <tr>\n",
       "      <th>0</th>\n",
       "      <td>23</td>\n",
       "      <td>Male</td>\n",
       "      <td>Average</td>\n",
       "      <td>No</td>\n",
       "      <td>Sometimes</td>\n",
       "      <td>Yes</td>\n",
       "      <td>Yes</td>\n",
       "      <td>12</td>\n",
       "      <td>NaN</td>\n",
       "      <td>Yes</td>\n",
       "    </tr>\n",
       "    <tr>\n",
       "      <th>1</th>\n",
       "      <td>23</td>\n",
       "      <td>Male</td>\n",
       "      <td>Excellent</td>\n",
       "      <td>Sometimes</td>\n",
       "      <td>Yes</td>\n",
       "      <td>No</td>\n",
       "      <td>Yes</td>\n",
       "      <td>8</td>\n",
       "      <td>80.0</td>\n",
       "      <td>Yes</td>\n",
       "    </tr>\n",
       "    <tr>\n",
       "      <th>2</th>\n",
       "      <td>24</td>\n",
       "      <td>Male</td>\n",
       "      <td>Average</td>\n",
       "      <td>No</td>\n",
       "      <td>Sometimes</td>\n",
       "      <td>Sometimes</td>\n",
       "      <td>No</td>\n",
       "      <td>8</td>\n",
       "      <td>10.0</td>\n",
       "      <td>Yes</td>\n",
       "    </tr>\n",
       "    <tr>\n",
       "      <th>3</th>\n",
       "      <td>20</td>\n",
       "      <td>Female</td>\n",
       "      <td>Good</td>\n",
       "      <td>Yes</td>\n",
       "      <td>Sometimes</td>\n",
       "      <td>Yes</td>\n",
       "      <td>No</td>\n",
       "      <td>5</td>\n",
       "      <td>15.0</td>\n",
       "      <td>Yes</td>\n",
       "    </tr>\n",
       "    <tr>\n",
       "      <th>4</th>\n",
       "      <td>24</td>\n",
       "      <td>Female</td>\n",
       "      <td>Average</td>\n",
       "      <td>Yes</td>\n",
       "      <td>Yes</td>\n",
       "      <td>Yes</td>\n",
       "      <td>Yes</td>\n",
       "      <td>5</td>\n",
       "      <td>2.0</td>\n",
       "      <td>Yes</td>\n",
       "    </tr>\n",
       "  </tbody>\n",
       "</table>\n",
       "</div>"
      ],
      "text/plain": [
       "   Age   Gender AcademicPerformance TakingNoteInClass DepressionStatus  \\\n",
       "0    23    Male             Average                No        Sometimes   \n",
       "1    23    Male           Excellent         Sometimes              Yes   \n",
       "2    24    Male             Average                No        Sometimes   \n",
       "3    20  Female                Good               Yes        Sometimes   \n",
       "4    24  Female             Average               Yes              Yes   \n",
       "\n",
       "  FaceChallangesToCompleteAcademicTask LikePresentation  SleepPerDayHours  \\\n",
       "0                                  Yes              Yes                12   \n",
       "1                                   No              Yes                 8   \n",
       "2                            Sometimes               No                 8   \n",
       "3                                  Yes               No                 5   \n",
       "4                                  Yes              Yes                 5   \n",
       "\n",
       "   NumberOfFriend LikeNewThings  \n",
       "0             NaN           Yes  \n",
       "1            80.0           Yes  \n",
       "2            10.0           Yes  \n",
       "3            15.0           Yes  \n",
       "4             2.0           Yes  "
      ]
     },
     "execution_count": 8,
     "metadata": {},
     "output_type": "execute_result"
    }
   ],
   "source": [
    "data.head()"
   ]
  },
  {
   "cell_type": "markdown",
   "id": "bec25816-a455-4d5d-8a00-3cd75c5630a2",
   "metadata": {},
   "source": [
    "## Preprocessing "
   ]
  },
  {
   "cell_type": "code",
   "execution_count": 11,
   "id": "2da84f55-2f2c-4d8e-b885-0a7c093731f6",
   "metadata": {},
   "outputs": [
    {
     "data": {
      "text/plain": [
       "(99, 10)"
      ]
     },
     "execution_count": 11,
     "metadata": {},
     "output_type": "execute_result"
    }
   ],
   "source": [
    "data.shape"
   ]
  },
  {
   "cell_type": "code",
   "execution_count": 12,
   "id": "867fbb63-eae9-4ae9-8e03-e1bf91d8cb41",
   "metadata": {},
   "outputs": [
    {
     "name": "stdout",
     "output_type": "stream",
     "text": [
      "<class 'pandas.core.frame.DataFrame'>\n",
      "RangeIndex: 99 entries, 0 to 98\n",
      "Data columns (total 10 columns):\n",
      " #   Column                                Non-Null Count  Dtype  \n",
      "---  ------                                --------------  -----  \n",
      " 0   Age                                   99 non-null     int64  \n",
      " 1   Gender                                99 non-null     object \n",
      " 2   AcademicPerformance                   99 non-null     object \n",
      " 3   TakingNoteInClass                     99 non-null     object \n",
      " 4   DepressionStatus                      99 non-null     object \n",
      " 5   FaceChallangesToCompleteAcademicTask  99 non-null     object \n",
      " 6   LikePresentation                      99 non-null     object \n",
      " 7   SleepPerDayHours                      99 non-null     int64  \n",
      " 8   NumberOfFriend                        95 non-null     float64\n",
      " 9   LikeNewThings                         99 non-null     object \n",
      "dtypes: float64(1), int64(2), object(7)\n",
      "memory usage: 7.9+ KB\n"
     ]
    }
   ],
   "source": [
    "data.info()"
   ]
  },
  {
   "cell_type": "code",
   "execution_count": 13,
   "id": "b2b31e40-38b7-44df-a61e-04e17225e733",
   "metadata": {},
   "outputs": [
    {
     "data": {
      "text/plain": [
       "Age                                     0\n",
       "Gender                                  0\n",
       "AcademicPerformance                     0\n",
       "TakingNoteInClass                       0\n",
       "DepressionStatus                        0\n",
       "FaceChallangesToCompleteAcademicTask    0\n",
       "LikePresentation                        0\n",
       "SleepPerDayHours                        0\n",
       "NumberOfFriend                          4\n",
       "LikeNewThings                           0\n",
       "dtype: int64"
      ]
     },
     "execution_count": 13,
     "metadata": {},
     "output_type": "execute_result"
    }
   ],
   "source": [
    "data.isna().sum()"
   ]
  },
  {
   "cell_type": "code",
   "execution_count": 14,
   "id": "d92fd93e-9c23-4a24-9db2-d88b70e8b74d",
   "metadata": {},
   "outputs": [],
   "source": [
    "data = data.fillna(0)"
   ]
  },
  {
   "cell_type": "code",
   "execution_count": 18,
   "id": "40657055-cbcb-433a-88df-8b17bfbc1e20",
   "metadata": {},
   "outputs": [
    {
     "data": {
      "text/html": [
       "<div>\n",
       "<style scoped>\n",
       "    .dataframe tbody tr th:only-of-type {\n",
       "        vertical-align: middle;\n",
       "    }\n",
       "\n",
       "    .dataframe tbody tr th {\n",
       "        vertical-align: top;\n",
       "    }\n",
       "\n",
       "    .dataframe thead th {\n",
       "        text-align: right;\n",
       "    }\n",
       "</style>\n",
       "<table border=\"1\" class=\"dataframe\">\n",
       "  <thead>\n",
       "    <tr style=\"text-align: right;\">\n",
       "      <th></th>\n",
       "      <th>Age</th>\n",
       "      <th>Gender</th>\n",
       "      <th>AcademicPerformance</th>\n",
       "      <th>TakingNoteInClass</th>\n",
       "      <th>DepressionStatus</th>\n",
       "      <th>FaceChallangesToCompleteAcademicTask</th>\n",
       "      <th>LikePresentation</th>\n",
       "      <th>SleepPerDayHours</th>\n",
       "      <th>NumberOfFriend</th>\n",
       "      <th>LikeNewThings</th>\n",
       "    </tr>\n",
       "  </thead>\n",
       "  <tbody>\n",
       "    <tr>\n",
       "      <th>63</th>\n",
       "      <td>23</td>\n",
       "      <td>Female</td>\n",
       "      <td>Average</td>\n",
       "      <td>Sometimes</td>\n",
       "      <td>Yes</td>\n",
       "      <td>Sometimes</td>\n",
       "      <td>No</td>\n",
       "      <td>8</td>\n",
       "      <td>2.0</td>\n",
       "      <td>No</td>\n",
       "    </tr>\n",
       "    <tr>\n",
       "      <th>65</th>\n",
       "      <td>24</td>\n",
       "      <td>Male</td>\n",
       "      <td>Average</td>\n",
       "      <td>No</td>\n",
       "      <td>Sometimes</td>\n",
       "      <td>Sometimes</td>\n",
       "      <td>No</td>\n",
       "      <td>8</td>\n",
       "      <td>10.0</td>\n",
       "      <td>Yes</td>\n",
       "    </tr>\n",
       "    <tr>\n",
       "      <th>79</th>\n",
       "      <td>24</td>\n",
       "      <td>Male</td>\n",
       "      <td>Average</td>\n",
       "      <td>Sometimes</td>\n",
       "      <td>No</td>\n",
       "      <td>Yes</td>\n",
       "      <td>Yes</td>\n",
       "      <td>7</td>\n",
       "      <td>100.0</td>\n",
       "      <td>Yes</td>\n",
       "    </tr>\n",
       "    <tr>\n",
       "      <th>51</th>\n",
       "      <td>21</td>\n",
       "      <td>Female</td>\n",
       "      <td>Good</td>\n",
       "      <td>Yes</td>\n",
       "      <td>Yes</td>\n",
       "      <td>Sometimes</td>\n",
       "      <td>Yes</td>\n",
       "      <td>4</td>\n",
       "      <td>2.0</td>\n",
       "      <td>Yes</td>\n",
       "    </tr>\n",
       "    <tr>\n",
       "      <th>0</th>\n",
       "      <td>23</td>\n",
       "      <td>Male</td>\n",
       "      <td>Average</td>\n",
       "      <td>No</td>\n",
       "      <td>Sometimes</td>\n",
       "      <td>Yes</td>\n",
       "      <td>Yes</td>\n",
       "      <td>12</td>\n",
       "      <td>0.0</td>\n",
       "      <td>Yes</td>\n",
       "    </tr>\n",
       "    <tr>\n",
       "      <th>50</th>\n",
       "      <td>22</td>\n",
       "      <td>Female</td>\n",
       "      <td>Average</td>\n",
       "      <td>Yes</td>\n",
       "      <td>No</td>\n",
       "      <td>No</td>\n",
       "      <td>Yes</td>\n",
       "      <td>7</td>\n",
       "      <td>3.0</td>\n",
       "      <td>Yes</td>\n",
       "    </tr>\n",
       "    <tr>\n",
       "      <th>92</th>\n",
       "      <td>22</td>\n",
       "      <td>Female</td>\n",
       "      <td>Average</td>\n",
       "      <td>Yes</td>\n",
       "      <td>No</td>\n",
       "      <td>No</td>\n",
       "      <td>Yes</td>\n",
       "      <td>7</td>\n",
       "      <td>3.0</td>\n",
       "      <td>Yes</td>\n",
       "    </tr>\n",
       "    <tr>\n",
       "      <th>80</th>\n",
       "      <td>20</td>\n",
       "      <td>Male</td>\n",
       "      <td>Good</td>\n",
       "      <td>No</td>\n",
       "      <td>Sometimes</td>\n",
       "      <td>No</td>\n",
       "      <td>Yes</td>\n",
       "      <td>7</td>\n",
       "      <td>7.0</td>\n",
       "      <td>Yes</td>\n",
       "    </tr>\n",
       "  </tbody>\n",
       "</table>\n",
       "</div>"
      ],
      "text/plain": [
       "    Age   Gender AcademicPerformance TakingNoteInClass DepressionStatus  \\\n",
       "63    23  Female             Average         Sometimes              Yes   \n",
       "65    24    Male             Average                No        Sometimes   \n",
       "79    24    Male             Average         Sometimes               No   \n",
       "51    21  Female                Good               Yes              Yes   \n",
       "0     23    Male             Average                No        Sometimes   \n",
       "50    22  Female             Average               Yes               No   \n",
       "92    22  Female             Average               Yes               No   \n",
       "80    20    Male                Good                No        Sometimes   \n",
       "\n",
       "   FaceChallangesToCompleteAcademicTask LikePresentation  SleepPerDayHours  \\\n",
       "63                            Sometimes               No                 8   \n",
       "65                            Sometimes               No                 8   \n",
       "79                                  Yes              Yes                 7   \n",
       "51                            Sometimes              Yes                 4   \n",
       "0                                   Yes              Yes                12   \n",
       "50                                   No              Yes                 7   \n",
       "92                                   No              Yes                 7   \n",
       "80                                   No              Yes                 7   \n",
       "\n",
       "    NumberOfFriend LikeNewThings  \n",
       "63             2.0            No  \n",
       "65            10.0           Yes  \n",
       "79           100.0           Yes  \n",
       "51             2.0           Yes  \n",
       "0              0.0           Yes  \n",
       "50             3.0           Yes  \n",
       "92             3.0           Yes  \n",
       "80             7.0           Yes  "
      ]
     },
     "execution_count": 18,
     "metadata": {},
     "output_type": "execute_result"
    }
   ],
   "source": [
    "data.sample(8)"
   ]
  },
  {
   "cell_type": "code",
   "execution_count": 15,
   "id": "638843b3-d17c-4386-9b36-b98735a570c9",
   "metadata": {},
   "outputs": [
    {
     "data": {
      "text/plain": [
       "Age                                     0\n",
       "Gender                                  0\n",
       "AcademicPerformance                     0\n",
       "TakingNoteInClass                       0\n",
       "DepressionStatus                        0\n",
       "FaceChallangesToCompleteAcademicTask    0\n",
       "LikePresentation                        0\n",
       "SleepPerDayHours                        0\n",
       "NumberOfFriend                          0\n",
       "LikeNewThings                           0\n",
       "dtype: int64"
      ]
     },
     "execution_count": 15,
     "metadata": {},
     "output_type": "execute_result"
    }
   ],
   "source": [
    "data.isna().sum()"
   ]
  },
  {
   "cell_type": "code",
   "execution_count": 29,
   "id": "8cf81aaf-caba-4179-a833-ed49d2053680",
   "metadata": {},
   "outputs": [
    {
     "data": {
      "text/plain": [
       "<matplotlib.legend.Legend at 0x2377bfdbfb0>"
      ]
     },
     "execution_count": 29,
     "metadata": {},
     "output_type": "execute_result"
    },
    {
     "data": {
      "image/png": "[encoded data removed]",
      "text/plain": [
       "<Figure size 1000x600 with 1 Axes>"
      ]
     },
     "metadata": {},
     "output_type": "display_data"
    }
   ],
   "source": [
    "\n",
    "\n",
    "plt.figure(figsize=(10, 6))\n",
    "\n",
    "sns.scatterplot(x='TakingNoteInClass', y='DepressionStatus', data=data, hue='DepressionStatus', palette='viridis', s=100)\n",
    "\n",
    "plt.title('Scatter Plot: Academic Performance vs Depression Status')\n",
    "plt.xlabel('Taking Note In Class')\n",
    "plt.ylabel('Depression Status')\n",
    "plt.legend(title='Depression Status')\n"
   ]
  },
  {
   "cell_type": "code",
   "execution_count": 30,
   "id": "7737531a-a1ae-4ced-8693-9d2a78dff32b",
   "metadata": {},
   "outputs": [],
   "source": [
    "from sklearn.preprocessing import LabelEncoder\n",
    "\n",
    "label_encoder = LabelEncoder()\n",
    "\n",
    "columns_to_encode = ['Gender', 'AcademicPerformance', 'TakingNoteInClass', 'DepressionStatus', 'FaceChallangesToCompleteAcademicTask', 'LikePresentation', 'SleepPerDayHours', 'NumberOfFriend', 'LikeNewThings']\n",
    "\n",
    "data[columns_to_encode] = data[columns_to_encode].apply(lambda col: label_encoder.fit_transform(col))"
   ]
  },
  {
   "cell_type": "code",
   "execution_count": 31,
   "id": "dd176327-60c5-4af2-ba37-416fe30205f6",
   "metadata": {},
   "outputs": [],
   "source": [
    "X = data.drop(['DepressionStatus'], axis=1)\n",
    "y = data['DepressionStatus']"
   ]
  },
  {
   "cell_type": "code",
   "execution_count": 32,
   "id": "7048eca7-f874-4001-bc2c-944f5b7768d3",
   "metadata": {},
   "outputs": [],
   "source": [
    "from sklearn.model_selection import train_test_split\n",
    "\n",
    "X_train, X_test, y_train, y_test = train_test_split(X, y, test_size=0.2, random_state=42)"
   ]
  },
  {
   "cell_type": "code",
   "execution_count": 33,
   "id": "d6fc9ebb-44e0-440f-a6ac-ad0ddd735736",
   "metadata": {},
   "outputs": [],
   "source": [
    "from sklearn.preprocessing import MinMaxScaler\n",
    "\n",
    "scale = MinMaxScaler()\n",
    "\n",
    "scale.fit(X_train)\n",
    "\n",
    "X_train_transform = scale.transform(X_train)\n",
    "X_test_transform = scale.transform(X_test)"
   ]
  },
  {
   "cell_type": "code",
   "execution_count": 34,
   "id": "c87b133a-d971-4e4d-8d60-87a15b76b2c6",
   "metadata": {},
   "outputs": [],
   "source": [
    "from sklearn.linear_model import LogisticRegression\n",
    "from sklearn.metrics import accuracy_score, classification_report, confusion_matrix\n",
    "\n",
    "model = LogisticRegression()\n",
    "\n",
    "model.fit(X_train_transform, y_train)\n",
    "\n",
    "y_pred = model.predict(X_test_transform)"
   ]
  },
  {
   "cell_type": "code",
   "execution_count": 35,
   "id": "29a3ea45-ae41-4009-aa7f-165646bcd843",
   "metadata": {},
   "outputs": [
    {
     "name": "stdout",
     "output_type": "stream",
     "text": [
      "Accuracy: 0.55\n",
      "\n",
      "Confusion Matrix:\n",
      "[[2 1 0]\n",
      " [2 3 1]\n",
      " [1 4 6]]\n",
      "\n",
      "Classification Report:\n",
      "              precision    recall  f1-score   support\n",
      "\n",
      "           0       0.40      0.67      0.50         3\n",
      "           1       0.38      0.50      0.43         6\n",
      "           2       0.86      0.55      0.67        11\n",
      "\n",
      "    accuracy                           0.55        20\n",
      "   macro avg       0.54      0.57      0.53        20\n",
      "weighted avg       0.64      0.55      0.57        20\n",
      "\n"
     ]
    }
   ],
   "source": [
    "accuracy = accuracy_score(y_test, y_pred)\n",
    "conf_matrix = confusion_matrix(y_test, y_pred)\n",
    "classification_rep = classification_report(y_test, y_pred)\n",
    "\n",
    "print(f\"Accuracy: {accuracy:.2f}\")\n",
    "print(\"\\nConfusion Matrix:\")\n",
    "print(conf_matrix)\n",
    "print(\"\\nClassification Report:\")\n",
    "print(classification_rep)"
   ]
  },
  {
   "cell_type": "code",
   "execution_count": 37,
   "id": "839a7160-904f-4fbd-b96b-7decfa121bb0",
   "metadata": {},
   "outputs": [
    {
     "name": "stdout",
     "output_type": "stream",
     "text": [
      "Accuracy: 0.85\n",
      "\n",
      "Confusion Matrix:\n",
      "[[3 0 0]\n",
      " [0 6 0]\n",
      " [0 3 8]]\n"
     ]
    }
   ],
   "source": [
    "from sklearn.ensemble import RandomForestClassifier\n",
    "\n",
    "rf_classifier = RandomForestClassifier(random_state=42)\n",
    "\n",
    "rf_classifier.fit(X_train_transform, y_train)\n",
    "\n",
    "y_pred = rf_classifier.predict(X_test_transform)\n",
    "\n",
    "accuracy = accuracy_score(y_test, y_pred)\n",
    "conf_matrix = confusion_matrix(y_test, y_pred)\n",
    "classification_rep = classification_report(y_test, y_pred)\n",
    "\n",
    "print(f\"Accuracy: {accuracy:.2f}\")\n",
    "print(\"\\nConfusion Matrix:\")\n",
    "print(conf_matrix)\n"
   ]
  },
  {
   "cell_type": "code",
   "execution_count": 38,
   "id": "209fecda-d664-4447-8eb0-857d231c09e0",
   "metadata": {},
   "outputs": [
    {
     "name": "stdout",
     "output_type": "stream",
     "text": [
      "K-Nearest Neighbors:\n",
      "Accuracy: 0.65\n",
      "\n",
      "Confusion Matrix:\n",
      "[[3 0 0]\n",
      " [2 3 1]\n",
      " [3 1 7]]\n",
      "\n",
      "Classification Report:\n",
      "              precision    recall  f1-score   support\n",
      "\n",
      "           0       0.38      1.00      0.55         3\n",
      "           1       0.75      0.50      0.60         6\n",
      "           2       0.88      0.64      0.74        11\n",
      "\n",
      "    accuracy                           0.65        20\n",
      "   macro avg       0.67      0.71      0.63        20\n",
      "weighted avg       0.76      0.65      0.67        20\n",
      "\n"
     ]
    }
   ],
   "source": [
    "from sklearn.neighbors import KNeighborsClassifier\n",
    "\n",
    "knn_classifier = KNeighborsClassifier(n_neighbors=3)\n",
    "\n",
    "knn_classifier.fit(X_train_transform, y_train)\n",
    "\n",
    "y_pred = knn_classifier.predict(X_test_transform)\n",
    "\n",
    "accuracy = accuracy_score(y_test, y_pred)\n",
    "conf_matrix = confusion_matrix(y_test, y_pred)\n",
    "classification_rep = classification_report(y_test, y_pred)\n",
    "\n",
    "print(\"K-Nearest Neighbors:\")\n",
    "print(f\"Accuracy: {accuracy:.2f}\")\n",
    "print(\"\\nConfusion Matrix:\")\n",
    "print(conf_matrix)\n",
    "print(\"\\nClassification Report:\")\n",
    "print(classification_rep)"
   ]
  },
  {
   "cell_type": "code",
   "execution_count": null,
   "id": "63f4d1be-7742-458d-b630-008aba375afd",
   "metadata": {},
   "outputs": [],
   "source": []
  }
 ],
 "metadata": {
  "kernelspec": {
   "display_name": "Python 3 (ipykernel)",
   "language": "python",
   "name": "python3"
  },
  "language_info": {
   "codemirror_mode": {
    "name": "ipython",
    "version": 3
   },
   "file_extension": ".py",
   "mimetype": "text/x-python",
   "name": "python",
   "nbconvert_exporter": "python",
   "pygments_lexer": "ipython3",
   "version": "3.12.7"
  }
 },
 "nbformat": 4,
 "nbformat_minor": 5
}
